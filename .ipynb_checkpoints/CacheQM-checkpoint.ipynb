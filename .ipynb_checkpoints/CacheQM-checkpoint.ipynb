{
 "cells": [
  {
   "cell_type": "markdown",
   "metadata": {},
   "source": [
    "# Introduce\n",
    "CacheQM是一种QM LinkList的Wrapper。把原有QM的header节点修改为Cache节点。其特点有：\n",
    "\n",
    "* 支持直接写Cache，减少延时和功耗\n",
    "* 通过Cache节点来驱动外围调度器\n",
    "  * 通过Cache Node的valid信号来驱动外围的调度器，减少调度器对QM时许的要求\n",
    "\n",
    "\n",
    "# 定义类\n",
    "\n",
    "导入相关库"
   ]
  },
  {
   "cell_type": "code",
   "execution_count": 43,
   "metadata": {},
   "outputs": [],
   "source": [
    "import numpy as np\n",
    "import pandas as pd\n",
    "import math"
   ]
  },
  {
   "cell_type": "markdown",
   "metadata": {},
   "source": [
    "## 类定义"
   ]
  },
  {
   "cell_type": "code",
   "execution_count": 48,
   "metadata": {},
   "outputs": [],
   "source": [
    "class CacheQM:\n",
    "    def __init__(self, qnum_l1, qnum_l2, qnum_l3, nnum):\n",
    "        \"\"\"\n",
    "        Arguments:\n",
    "        * qnum: {int} ---- 队列个数\n",
    "        * nnum: {int} ---- 节点个数\n",
    "        \"\"\"\n",
    "        self.qnum_l1 = qnum_l1\n",
    "        self.qnum_l2 = qnum_l2\n",
    "        self.qnum_l3 = qnum_l3\n",
    "        self.qnum = qnum_l1 + qnum_l2 + qnum_l3\n",
    "        self.nnum = nnum"
   ]
  },
  {
   "cell_type": "markdown",
   "metadata": {},
   "source": [
    "## 寄存器资源评估函数"
   ]
  },
  {
   "cell_type": "code",
   "execution_count": 49,
   "metadata": {},
   "outputs": [
    {
     "ename": "SyntaxError",
     "evalue": "invalid syntax (<ipython-input-49-2a35df644fe9>, line 34)",
     "output_type": "error",
     "traceback": [
      "\u001b[1;36m  File \u001b[1;32m\"<ipython-input-49-2a35df644fe9>\"\u001b[1;36m, line \u001b[1;32m34\u001b[0m\n\u001b[1;33m    regs.loc['cah_reload_b2b'] = [(1+link_mem_depth*pre_info_width) * wr_dly, '1bit valid + address']\u001b[0m\n\u001b[1;37m       ^\u001b[0m\n\u001b[1;31mSyntaxError\u001b[0m\u001b[1;31m:\u001b[0m invalid syntax\n"
     ]
    }
   ],
   "source": [
    "def reg_num(qm, wr_dly=3, rd_dly=4, enq_wr_link_dly=4, link_mem_depth=0, pre_info_width=0,\n",
    "           fp4_cache_width=0, fp2_cache_width=0, fp1_cache_width=0):\n",
    "    \"\"\"\n",
    "    Arguments:\n",
    "    WR_DLY: {int} ---- 写入延时\n",
    "    \"\"\"\n",
    "    \n",
    "    q_total_num_wid = math.log(qm.qnum, 2)\n",
    "    cache_width = pre_info_width + q_total_num_wid + 1\n",
    "    \n",
    "    regs = pd.DataFrame(columns=['value','description'])\n",
    "       \n",
    "    regs.loc['get_addr_ff'] = [qn.nnum*(enq_wr_link_dly+1), '']\n",
    "    regs.loc['enq_wr_cache'] = [wr_dly+2+enq_wr_link_dly+1, 'WR信号延时']\n",
    "    regs.loc['enq_req_ff'] = [wr_dly+1+enq_wr_link_dly, 'REQ信号延时']\n",
    "    regs.loc['enq_qid_ff'] = [q_total_num_wid * (wr_dly+1) + (q_total_num_wid * (enq_wr_link_dly+1)), 'QID延时']\n",
    "    \n",
    "    regs.loc['fp2_sub_linkid'] = [qm.qnum_l2,'']\n",
    "    regs.loc['fp1_sub_linkid'] = [qm.qnum_l3*2, '']\n",
    "    \n",
    "    regs.loc['deq_reg_ff'] = [rd_dly+1, '出队req信号延时']\n",
    "    regs.loc['deq_qid_ff'] = [q_total_num_wid * (rd_dly+1), '出队qid信号延时']\n",
    "    \n",
    "    regs.loc['cache_link_waddr_ff'] = [(wr_dly+1) * link_mem_depth, '']\n",
    "    regs.loc['cache_link_wdat_ff'] = [( link_mem_depth + pre_info_width ) * (wr_dly + 1), '']\n",
    "    regs.loc['link_raddr_ff'] = [link_mem_depth * (rd_dly + 1), '']\n",
    "    \n",
    "    regs.loc['req_deq_equal'] = [1, '']\n",
    "    regs.loc['deq_drag_vld'] = [(rd_dly+1) * qm.qnum + 1, '']\n",
    "    regs.loc['fp2_cache_wptr'] = [qm.qnum_l2 * 2, '']\n",
    "    regs.loc['fp1_cache_wptr'] = [qm.qnum_l3 * 2 * 2, '']\n",
    "    regs.loc['fp2_pre_alloc_wptr'] = [qm.qnum_l2 * 2, '']\n",
    "    regs.loc['fp1_pre_alloc_wptr'] = [qm.qnum_l3 * 2 *3,'']\n",
    "    regs.loc['cah_reload_b2b'] = [(1+link_mem_depth*pre_info_width) * wr_dly, '1bit valid + address']\n",
    "    regs.loc['cah_reolad_data'] = [cache_width, '']\n",
    "    \n",
    "    regs.loc['cache_node'] = [(cache_width*qm.qnum_l1) + (cache_width*qm.qnum_l2*2) + (cache_width*qm.qnum_l3*3), 'Cache节点']\n",
    "    regs.loc['qlen'] = [math.log(qm.nnum, 2) * qm.qnum, '']\n",
    "    \n",
    "    return regs\n",
    "    \n",
    "\n",
    "CacheQM.reg_num = reg_num"
   ]
  },
  {
   "cell_type": "code",
   "execution_count": 50,
   "metadata": {},
   "outputs": [
    {
     "ename": "TypeError",
     "evalue": "__init__() missing 2 required positional arguments: 'qnum_l3' and 'nnum'",
     "output_type": "error",
     "traceback": [
      "\u001b[1;31m---------------------------------------------------------------------------\u001b[0m",
      "\u001b[1;31mTypeError\u001b[0m                                 Traceback (most recent call last)",
      "\u001b[1;32m<ipython-input-50-299278ab0a50>\u001b[0m in \u001b[0;36m<module>\u001b[1;34m\u001b[0m\n\u001b[1;32m----> 1\u001b[1;33m \u001b[0mqm1\u001b[0m \u001b[1;33m=\u001b[0m \u001b[0mCacheQM\u001b[0m\u001b[1;33m(\u001b[0m\u001b[1;36m16\u001b[0m\u001b[1;33m,\u001b[0m \u001b[1;36m4096\u001b[0m\u001b[1;33m)\u001b[0m\u001b[1;33m\u001b[0m\u001b[0m\n\u001b[0m\u001b[0;32m      2\u001b[0m \u001b[1;33m\u001b[0m\u001b[0m\n\u001b[0;32m      3\u001b[0m \u001b[0mregs\u001b[0m \u001b[1;33m=\u001b[0m \u001b[0mqm1\u001b[0m\u001b[1;33m.\u001b[0m\u001b[0mreg_num\u001b[0m\u001b[1;33m(\u001b[0m\u001b[1;36m5\u001b[0m\u001b[1;33m)\u001b[0m\u001b[1;33m\u001b[0m\u001b[0m\n\u001b[0;32m      4\u001b[0m \u001b[1;33m\u001b[0m\u001b[0m\n\u001b[0;32m      5\u001b[0m \u001b[0mregs\u001b[0m\u001b[1;33m\u001b[0m\u001b[0m\n",
      "\u001b[1;31mTypeError\u001b[0m: __init__() missing 2 required positional arguments: 'qnum_l3' and 'nnum'"
     ]
    }
   ],
   "source": [
    "qm1 = CacheQM(16, 4096)\n",
    "\n",
    "regs = qm1.reg_num(5)\n",
    "\n",
    "regs"
   ]
  },
  {
   "cell_type": "code",
   "execution_count": null,
   "metadata": {},
   "outputs": [],
   "source": []
  }
 ],
 "metadata": {
  "kernelspec": {
   "display_name": "Python 3",
   "language": "python",
   "name": "python3"
  },
  "language_info": {
   "codemirror_mode": {
    "name": "ipython",
    "version": 3
   },
   "file_extension": ".py",
   "mimetype": "text/x-python",
   "name": "python",
   "nbconvert_exporter": "python",
   "pygments_lexer": "ipython3",
   "version": "3.6.4"
  }
 },
 "nbformat": 4,
 "nbformat_minor": 4
}
